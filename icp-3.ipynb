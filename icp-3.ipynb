{
 "cells": [
  {
   "cell_type": "code",
   "execution_count": 2,
   "id": "80c42fb7-bb96-45f8-83fa-0859c4e709e2",
   "metadata": {},
   "outputs": [
    {
     "name": "stdin",
     "output_type": "stream",
     "text": [
      "Enter employee name:  ankitha\n",
      "Enter family name:  belide\n",
      "Enter salary:  67000\n",
      "Enter department:  ecm\n",
      "Enter full-time employee name:  adithya\n",
      "Enter family name:  belide\n",
      "Enter salary:  90000\n",
      "Enter department:  cs\n"
     ]
    },
    {
     "name": "stdout",
     "output_type": "stream",
     "text": [
      "Average Salary: 78500.0\n",
      "Average Salary: 78500.0\n",
      "Total number of employees: 2\n"
     ]
    }
   ],
   "source": [
    "class Employee:\n",
    "    employee_count = 0\n",
    "    total_salary = 0\n",
    "\n",
    "    def __init__(self, name, family, salary, department):\n",
    "        self.name = name\n",
    "        self.family = family\n",
    "        self.salary = salary\n",
    "        self.department = department\n",
    "\n",
    "        Employee.employee_count += 1\n",
    "        Employee.total_salary += salary\n",
    "\n",
    "    def average_salary(self):\n",
    "        if Employee.employee_count > 0:\n",
    "            avg_salary = Employee.total_salary / Employee.employee_count\n",
    "            print(f\"Average Salary: {avg_salary}\")\n",
    "        else:\n",
    "            print(\"No employees to calculate average salary.\")\n",
    "\n",
    "class FulltimeEmployee(Employee):\n",
    "    pass\n",
    "    \n",
    "name = input(\"Enter employee name: \")\n",
    "family = input(\"Enter family name: \")\n",
    "salary = float(input(\"Enter salary: \"))\n",
    "department = input(\"Enter department: \")\n",
    "\n",
    "employee_instance = Employee(name, family, salary, department)\n",
    "\n",
    "name = input(\"Enter full-time employee name: \")\n",
    "family = input(\"Enter family name: \")\n",
    "salary = float(input(\"Enter salary: \"))\n",
    "department = input(\"Enter department: \")\n",
    "\n",
    "fulltime_employee_instance = FulltimeEmployee(name, family, salary, department)\n",
    "\n",
    "employee_instance.average_salary()\n",
    "fulltime_employee_instance.average_salary()\n",
    "\n",
    "print(f\"Total number of employees: {Employee.employee_count}\")\n"
   ]
  },
  {
   "cell_type": "code",
   "execution_count": 13,
   "id": "9e0b68f9-3a62-4617-b385-b60326a796cd",
   "metadata": {},
   "outputs": [
    {
     "name": "stdout",
     "output_type": "stream",
     "text": [
      "Vector\n",
      "[10.54447758 13.93915797  9.84097427  5.44837597  0.         10.10461774\n",
      "  6.40012543  3.8744002  19.86377336  0.          4.34541553 13.73610564\n",
      " 10.04815567  0.         11.68613615 12.19499308 17.14229281 17.86488293\n",
      "  0.          6.92387542]\n",
      "\n",
      " Array\n",
      "[[10.54447758 13.93915797  9.84097427  5.44837597  0.        ]\n",
      " [10.10461774  6.40012543  3.8744002  19.86377336  0.        ]\n",
      " [ 4.34541553 13.73610564 10.04815567  0.         11.68613615]\n",
      " [12.19499308 17.14229281 17.86488293  0.          6.92387542]]\n"
     ]
    }
   ],
   "source": [
    "import numpy as np\n",
    "vector = np.random.uniform(1, 20, 20)\n",
    "array = vector.reshape(4, 5)\n",
    "array[np.arange(len(array)), array.argmax(axis=1)] = 0\n",
    "print(\"Vector\")\n",
    "print(vector)\n",
    "print(\"\\n Array\")\n",
    "print(array)"
   ]
  },
  {
   "cell_type": "code",
   "execution_count": null,
   "id": "70288ceb-8fe8-4975-8c02-17c9f82a6a71",
   "metadata": {},
   "outputs": [],
   "source": []
  }
 ],
 "metadata": {
  "kernelspec": {
   "display_name": "Python 3 (ipykernel)",
   "language": "python",
   "name": "python3"
  },
  "language_info": {
   "codemirror_mode": {
    "name": "ipython",
    "version": 3
   },
   "file_extension": ".py",
   "mimetype": "text/x-python",
   "name": "python",
   "nbconvert_exporter": "python",
   "pygments_lexer": "ipython3",
   "version": "3.12.1"
  }
 },
 "nbformat": 4,
 "nbformat_minor": 5
}
